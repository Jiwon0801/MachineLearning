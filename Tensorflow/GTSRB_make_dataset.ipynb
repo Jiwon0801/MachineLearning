{
 "cells": [
  {
   "cell_type": "code",
   "execution_count": 5,
   "metadata": {},
   "outputs": [],
   "source": [
    "import os\n",
    "import numpy as np\n",
    "import random\n",
    "\n",
    "def is_csv(file_name) : # 파일명이 csv 파일인지 검사\n",
    "    _, ext = os.path.splitext(file_name)\n",
    "    return ext == '.csv'\n",
    "\n",
    "def get_csv_list(dir_path) : # 리스트에서 csv 파일만 추출\n",
    "    return [ file for file in os.listdir(dir_path) if is_csv(file)]\n",
    "\n",
    "def read_data(file_path): # csv 파일에서 데이터 셋 작성\n",
    "    data = np.loadtxt(file_path, delimiter=',', dtype='float32')\n",
    "    np.random.shuffle(data)\n",
    "    \n",
    "    total = data.shape[0]\n",
    "    base = int(total * 0.8)\n",
    "    train = data[:base] # 80%는 훈련 데이터\n",
    "    test = data[base:] # 20%는 테스트 데이터\n",
    "    \n",
    "    return train, test # 튜플(훈련 데이터, 테스트 데이터) 리턴"
   ]
  },
  {
   "cell_type": "code",
   "execution_count": 6,
   "metadata": {},
   "outputs": [],
   "source": [
    "# 주어진 크기의 배열에 one hot 표현\n",
    "def one_hot(rows, cols, index):\n",
    "    arr = np.zeros([rows, cols], dtype='float32')\n",
    "    arr[:, index] = 1\n",
    "    return arr\n",
    "# 훈련 데이터와 테스트 데이터 목록\n",
    "train_datas = []\n",
    "test_datas = []"
   ]
  },
  {
   "cell_type": "code",
   "execution_count": 7,
   "metadata": {},
   "outputs": [],
   "source": [
    "target_dir = './GTSRB_IMG/'\n",
    "list = os.listdir(target_dir)\n",
    "\n",
    "for dir in list :\n",
    "    work_dir = os.path.join(target_dir,dir)\n",
    "    for csv in get_csv_list(work_dir) :\n",
    "        index, _ = os.path.splitext(csv) # 파일명이 인덱스\n",
    "        csv = os.path.join(work_dir, csv)\n",
    "        \n",
    "        train_images, test_images = read_data(csv)\n",
    "        train_labels = one_hot(train_images.shape[0], 43, int(index))\n",
    "        test_labels = one_hot(test_images.shape[0], 43, int(index))\n",
    "        \n",
    "        for item in zip(train_images, train_labels):\n",
    "            train_datas.append(item)\n",
    "        for item in zip(test_images, test_labels):\n",
    "            test_datas.append(item)\n",
    "            \n",
    "random.shuffle(train_datas)\n",
    "random.shuffle(test_datas)"
   ]
  },
  {
   "cell_type": "code",
   "execution_count": 8,
   "metadata": {},
   "outputs": [],
   "source": [
    "train_images = []\n",
    "train_labels = []\n",
    "for image, label in train_datas:\n",
    "    train_images.append(image)\n",
    "    train_labels.append(label)\n",
    "    \n",
    "test_images = []\n",
    "test_labels = []\n",
    "for image, label in test_datas:\n",
    "    test_images.append(image)\n",
    "    test_labels.append(label)\n",
    "    \n",
    "target_dir = './GTSRB_IMG/'\n",
    "np.savetxt(target_dir + 'train_images.csv', train_images,fmt='%.6f', delimiter=',')\n",
    "np.savetxt(target_dir + 'train_labels.csv', train_labels,fmt='%.6f', delimiter=',')\n",
    "np.savetxt(target_dir + 'test_images.csv', test_images,fmt='%.6f', delimiter=',')\n",
    "np.savetxt(target_dir + 'test_labels.csv', test_labels,fmt='%.6f', delimiter=',')"
   ]
  },
  {
   "cell_type": "code",
   "execution_count": null,
   "metadata": {},
   "outputs": [],
   "source": []
  }
 ],
 "metadata": {
  "kernelspec": {
   "display_name": "Python 3",
   "language": "python",
   "name": "python3"
  },
  "language_info": {
   "codemirror_mode": {
    "name": "ipython",
    "version": 3
   },
   "file_extension": ".py",
   "mimetype": "text/x-python",
   "name": "python",
   "nbconvert_exporter": "python",
   "pygments_lexer": "ipython3",
   "version": "3.7.0"
  }
 },
 "nbformat": 4,
 "nbformat_minor": 2
}
