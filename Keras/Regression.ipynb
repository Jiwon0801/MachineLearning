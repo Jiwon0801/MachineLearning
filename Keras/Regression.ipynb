{
 "cells": [
  {
   "cell_type": "code",
   "execution_count": 1,
   "metadata": {},
   "outputs": [
    {
     "name": "stderr",
     "output_type": "stream",
     "text": [
      "Using TensorFlow backend.\n"
     ]
    }
   ],
   "source": [
    "from keras.models import Sequential\n",
    "from keras.layers import Dense\n",
    "import numpy as np\n",
    "\n",
    "x = np.array([0,1,2,3,4])\n",
    "y = x*2 +1"
   ]
  },
  {
   "cell_type": "code",
   "execution_count": 3,
   "metadata": {},
   "outputs": [
    {
     "name": "stdout",
     "output_type": "stream",
     "text": [
      "WARNING:tensorflow:From C:\\ProgramData\\Anaconda3\\lib\\site-packages\\tensorflow\\python\\framework\\op_def_library.py:263: colocate_with (from tensorflow.python.framework.ops) is deprecated and will be removed in a future version.\n",
      "Instructions for updating:\n",
      "Colocations handled automatically by placer.\n",
      "WARNING:tensorflow:From C:\\ProgramData\\Anaconda3\\lib\\site-packages\\tensorflow\\python\\ops\\math_ops.py:3066: to_int32 (from tensorflow.python.ops.math_ops) is deprecated and will be removed in a future version.\n",
      "Instructions for updating:\n",
      "Use tf.cast instead.\n",
      "[[1.9815809]] [1.0113835]\n",
      "Targets: [5 7 9]\n",
      "Predictions: [4.9745455 6.956126  8.937707 ]\n"
     ]
    }
   ],
   "source": [
    "#모델 구성\n",
    "model = Sequential()\n",
    "model.add(Dense(1, input_shape=(1,)))\n",
    "model.compile('SGD', 'mse') #확률 적경사하강법, 평균제곱오차\n",
    "\n",
    "#훈련\n",
    "model.fit(x[:2], y[:2], epochs=1000, verbose=0)\n",
    "\n",
    "# 확인\n",
    "weights, bias = model.layers[0].get_weights()\n",
    "print(weights, bias)\n",
    "\n",
    "# 테스트\n",
    "print('Targets:', y[2:])\n",
    "print('Predictions:', model.predict(x[2:]).flatten())"
   ]
  },
  {
   "cell_type": "code",
   "execution_count": null,
   "metadata": {},
   "outputs": [],
   "source": []
  },
  {
   "cell_type": "code",
   "execution_count": 6,
   "metadata": {},
   "outputs": [
    {
     "name": "stdout",
     "output_type": "stream",
     "text": [
      "[[0.10181142]] [0.30002198]\n"
     ]
    }
   ],
   "source": [
    "#####단순 회귀\n",
    "\n",
    "# 데이터 준비\n",
    "num_points = 1000\n",
    "x_data = np.random.normal(0.0, 0.55, (num_points))\n",
    "y_data = x_data * 0.1 + 0.3 + np.random.normal(0.0, 0.03, (num_points))\n",
    "\n",
    "# 모델 구성\n",
    "model = Sequential()\n",
    "model.add(Dense(1, input_shape=(1,)))\n",
    "model.compile('SGD', 'mse')\n",
    "\n",
    "# 훈련\n",
    "history= model.fit(x_data, y_data, epochs=1000, verbose=0)\n",
    "\n",
    "# 확인\n",
    "weights, bias = model.layers[0].get_weights()\n",
    "print(weights, bias)"
   ]
  },
  {
   "cell_type": "code",
   "execution_count": 7,
   "metadata": {},
   "outputs": [
    {
     "name": "stdout",
     "output_type": "stream",
     "text": [
      "Targets : [0.38327174 0.30011525 0.25392698 0.23567883 0.32687532 0.37244297\n",
      " 0.34766413 0.32790649 0.28989517 0.3470926 ]\n",
      "Predictions: [0.38719237 0.31046227 0.27296302 0.24166882 0.32303375 0.3221166\n",
      " 0.35973442 0.3777117  0.3273148  0.2937457 ]\n"
     ]
    }
   ],
   "source": [
    "#테스트\n",
    "test_indexs = np.random.choice(num_points, 10) #10개 무작위 추출\n",
    "test_x = x_data[test_indexs]\n",
    "test_y = y_data[test_indexs]\n",
    "print('Targets :', test_y)\n",
    "\n",
    "print('Predictions:', model.predict(test_x).flatten())"
   ]
  },
  {
   "cell_type": "code",
   "execution_count": null,
   "metadata": {},
   "outputs": [],
   "source": []
  },
  {
   "cell_type": "code",
   "execution_count": null,
   "metadata": {},
   "outputs": [],
   "source": []
  },
  {
   "cell_type": "code",
   "execution_count": 16,
   "metadata": {},
   "outputs": [],
   "source": [
    "#####다중 회귀\n",
    "import matplotlib.pyplot as plt\n",
    "\n",
    "# 데이터 준비\n",
    "num_points = 1000\n",
    "x_data = np.random.normal(0.0, 0.55, (num_points))\n",
    "y_data = x_data * 0.1 + 0.3 + np.random.normal(0.0, 0.03, (num_points))\n",
    "\n",
    "# 모델 구성\n",
    "x_data = np.random.randn(2000, 3)\n",
    "w_real = [0.3, 0.5, 0.1]\n",
    "b_real = -0.2\n",
    "\n",
    "noise = np.random.randn(2000, 3)\n",
    "w_real = [0.3, 0.5, 0.1]\n",
    "b_real = -0.2\n",
    "\n",
    "noise = np.random.randn(1, 2000)*0.1\n",
    "y_data = np.matmul(w_real, x_data.T) + b_real + noise\n",
    "y_data = y_data.reshape(2000,1)"
   ]
  },
  {
   "cell_type": "code",
   "execution_count": 17,
   "metadata": {},
   "outputs": [
    {
     "name": "stdout",
     "output_type": "stream",
     "text": [
      "_________________________________________________________________\n",
      "Layer (type)                 Output Shape              Param #   \n",
      "=================================================================\n",
      "dense_5 (Dense)              (None, 1)                 4         \n",
      "=================================================================\n",
      "Total params: 4\n",
      "Trainable params: 4\n",
      "Non-trainable params: 0\n",
      "_________________________________________________________________\n"
     ]
    }
   ],
   "source": [
    "model = Sequential()\n",
    "model.add(Dense(1, input_shape=(3,)))\n",
    "model.compile(loss='mse', optimizer='sgd')\n",
    "model.summary()"
   ]
  },
  {
   "cell_type": "code",
   "execution_count": 18,
   "metadata": {},
   "outputs": [
    {
     "name": "stdout",
     "output_type": "stream",
     "text": [
      "[[0.29790035]\n",
      " [0.4994587 ]\n",
      " [0.09871176]] [-0.19734246]\n"
     ]
    }
   ],
   "source": [
    "# 훈련\n",
    "history= model.fit(x_data, y_data, epochs=1000, verbose=0)\n",
    "\n",
    "# 가중치, bias 확인\n",
    "weights, bias = model.layers[0].get_weights()\n",
    "print(weights, bias)"
   ]
  },
  {
   "cell_type": "code",
   "execution_count": 19,
   "metadata": {},
   "outputs": [
    {
     "data": {
      "image/png": "[encoded data removed]",
      "text/plain": [
       "<Figure size 432x288 with 1 Axes>"
      ]
     },
     "metadata": {
      "needs_background": "light"
     },
     "output_type": "display_data"
    }
   ],
   "source": [
    "# history 시각화\n",
    "plt.plot(history.history['loss'])\n",
    "plt.title('model loss')\n",
    "plt.ylabel('loss')\n",
    "plt.xlabel('epoch')\n",
    "plt.legend(['train'], loc='upper left')\n",
    "plt.show()"
   ]
  },
  {
   "cell_type": "code",
   "execution_count": null,
   "metadata": {},
   "outputs": [],
   "source": []
  }
 ],
 "metadata": {
  "kernelspec": {
   "display_name": "Python 3",
   "language": "python",
   "name": "python3"
  },
  "language_info": {
   "codemirror_mode": {
    "name": "ipython",
    "version": 3
   },
   "file_extension": ".py",
   "mimetype": "text/x-python",
   "name": "python",
   "nbconvert_exporter": "python",
   "pygments_lexer": "ipython3",
   "version": "3.7.0"
  }
 },
 "nbformat": 4,
 "nbformat_minor": 2
}
