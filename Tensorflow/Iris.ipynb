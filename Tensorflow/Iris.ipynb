{
 "cells": [
  {
   "cell_type": "code",
   "execution_count": 35,
   "metadata": {},
   "outputs": [],
   "source": [
    "import numpy as np\n",
    "import tensorflow as tf"
   ]
  },
  {
   "cell_type": "code",
   "execution_count": 44,
   "metadata": {},
   "outputs": [
    {
     "name": "stdout",
     "output_type": "stream",
     "text": [
      "(100, 5) (50, 5)\n"
     ]
    }
   ],
   "source": [
    "data = np.loadtxt('C:/Users/student/MachineLearning/csv/iris.csv', delimiter=',', dtype='float32')\n",
    "\n",
    "np.random.shuffle(data)\n",
    "\n",
    "train_data = data[:100]\n",
    "test_data = data[100:]\n",
    "\n",
    "x_data = train_data[:, 1:5]\n",
    "y_data = train_data[:, :1]\n",
    "\n",
    "print(train_data.shape, test_data.shape)\n"
   ]
  },
  {
   "cell_type": "code",
   "execution_count": 45,
   "metadata": {},
   "outputs": [],
   "source": [
    "def one_hot(y_data):\n",
    "    #2차원 -> 1차원\n",
    "    index = y_data.astype('uint8').flatten()\n",
    "    \n",
    "    rows = y_data.shape[0]\n",
    "    cols = index.max() + 1\n",
    "    temp = np.zeros((rows, cols), dtype = 'float32')\n",
    "    temp[np.arange(rows), index] = 1.0\n",
    "    return temp\n",
    "\n",
    "y_data = one_hot(y_data)\n",
    "#print(y_data)\n",
    "\n",
    "num_input = x_data.shape[1] # 입력 노드 수\n",
    "num_output = y_data.shape[1] # 출력 노드 수\n",
    "num_hidden = 10"
   ]
  },
  {
   "cell_type": "code",
   "execution_count": 46,
   "metadata": {},
   "outputs": [],
   "source": [
    "#신경망 모델 구성\n",
    "X = tf.placeholder(tf.float32)\n",
    "Y = tf.placeholder (tf.float32)\n",
    "\n",
    "num_hidden2 = 20\n",
    "\n",
    "W1 = tf.Variable(tf.random_uniform([num_input, num_hidden], -1, 1))\n",
    "#b1 = tf.Variable(tf.zeros([num_hidden]))\n",
    "L1 = tf.nn.relu(tf.matmul(X, W1))\n",
    "\n",
    "W2 = tf.Variable(tf.random_uniform([num_hidden, num_hidden2], -1, 1))\n",
    "#b2 = tf.Variable(tf.zeros([num_output]))\n",
    "L2 = tf.nn.relu(tf.matmul(L1, W2))\n",
    "\n",
    "#편향 대체하는 가중치 추가\n",
    "W3 = tf.Variable(tf.random_uniform([num_hidden2, num_output], -1, 1))\n",
    "model = tf.matmul(L2, W3)"
   ]
  },
  {
   "cell_type": "code",
   "execution_count": 47,
   "metadata": {},
   "outputs": [],
   "source": [
    "# 학습 회수 카운트\n",
    "global_step = tf.Variable(0, trainable = False, name=\"global_step\") "
   ]
  },
  {
   "cell_type": "code",
   "execution_count": 48,
   "metadata": {},
   "outputs": [],
   "source": [
    "#손실함수, 최적화 함수\n",
    "\n",
    "cost = tf.reduce_mean(tf.nn.softmax_cross_entropy_with_logits_v2(labels=Y, logits = model))\n",
    "optimizer = tf.train.AdamOptimizer(learning_rate=0.01)\n",
    "train_op = optimizer.minimize(cost, global_step = global_step)"
   ]
  },
  {
   "cell_type": "code",
   "execution_count": 52,
   "metadata": {
    "scrolled": false
   },
   "outputs": [
    {
     "name": "stdout",
     "output_type": "stream",
     "text": [
      "INFO:tensorflow:Restoring parameters from ./model_iris\\dnn.ckpt-6\n",
      "Step: 7, Cost: 3.780\n",
      "Step: 8, Cost: 3.546\n",
      "예측값 :  [1 1 1 2 2 2 1 2 1 2 1 2 2 2 1 2 2 2 2 2 2 2 2 2 1 2 1 1 2 2 2 2 2 2 2 2 1\n",
      " 2 1 2 2 2 2 1 2 2 2 1 2 2 2 2 2 2 2 2 2 1 2 1 2 2 1 2 2 2 1 2 2 1 2 2 2 1\n",
      " 2 1 2 1 1 1 2 1 2 2 1 2 1 2 1 2 2 1 2 2 1 1 2 2 2 2]\n",
      "실제값 :  [0 0 0 1 2 2 0 1 0 1 0 2 1 1 0 1 2 1 1 1 2 1 1 2 0 2 0 0 1 1 1 1 1 2 2 1 0\n",
      " 2 0 2 1 1 2 0 2 2 2 0 1 2 1 2 2 1 2 1 2 0 2 0 2 0 0 2 1 2 0 1 2 0 2 2 1 0\n",
      " 1 0 1 0 0 0 2 0 1 2 0 1 0 1 0 2 1 0 1 1 0 0 2 1 2 1]\n",
      "정확도 : 32.00\n"
     ]
    }
   ],
   "source": [
    "with tf.Session() as sess:\n",
    "    \n",
    "    # 체크포인트가 존재하는지 검사\n",
    "    ckpt = tf.train.get_checkpoint_state('./model_iris')\n",
    "    saver = tf.train.Saver(tf.global_variables())\n",
    "    \n",
    "    if ckpt and tf.train.checkpoint_exists(ckpt.model_checkpoint_path):\n",
    "        # 체크포인트가 존재하는 경우, 복원\n",
    "        # global_step 값도 복원됨\n",
    "        saver.restore(sess, ckpt.model_checkpoint_path)\n",
    "    else :\n",
    "        # 체크포인트가 존재하지 않는 경우, 전역 변수 초기화\n",
    "        sess.run(tf.global_variables_initializer())\n",
    "\n",
    "     # 학습\n",
    "    feed_dict = {X: x_data, Y: y_data}\n",
    "    for step in range(2):\n",
    "        sess.run(train_op, feed_dict = feed_dict)\n",
    "        print('Step: {}, Cost: {:.3f}'.format(\n",
    "            sess.run(global_step),\n",
    "            sess.run(cost, feed_dict=feed_dict)))\n",
    "    \n",
    "    # 체크포인트 저장\n",
    "    saver.save(sess, './model_iris/dnn.ckpt', global_step=global_step)\n",
    "   \n",
    "    #학습 결과 확인\n",
    "    prediction = tf.argmax(model, axis=1)\n",
    "    target = tf.argmax(Y, axis=1)\n",
    "    print(\"예측값 : \", sess.run(prediction, feed_dict={X : x_data}))\n",
    "    print(\"실제값 : \", sess.run(target, feed_dict={Y : y_data}))\n",
    "    \n",
    "    is_correct = tf.equal(prediction, target)\n",
    "    accuracy = tf.reduce_mean(tf.cast(is_correct, tf.float32))\n",
    "\n",
    "    print('정확도 : {:.2f}'.format(sess.run(accuracy* 100,feed_dict={ X: x_data,Y: y_data})) )"
   ]
  },
  {
   "cell_type": "code",
   "execution_count": null,
   "metadata": {},
   "outputs": [],
   "source": []
  }
 ],
 "metadata": {
  "kernelspec": {
   "display_name": "Python 3",
   "language": "python",
   "name": "python3"
  },
  "language_info": {
   "codemirror_mode": {
    "name": "ipython",
    "version": 3
   },
   "file_extension": ".py",
   "mimetype": "text/x-python",
   "name": "python",
   "nbconvert_exporter": "python",
   "pygments_lexer": "ipython3",
   "version": "3.7.0"
  }
 },
 "nbformat": 4,
 "nbformat_minor": 2
}
