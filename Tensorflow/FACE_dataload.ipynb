{
 "cells": [
  {
   "cell_type": "code",
   "execution_count": 13,
   "metadata": {},
   "outputs": [],
   "source": [
    "import numpy as np\n",
    "import os"
   ]
  },
  {
   "cell_type": "code",
   "execution_count": 14,
   "metadata": {},
   "outputs": [],
   "source": [
    "class Data:\n",
    "    def __init__(self):\n",
    "        self.batch_index = 0\n",
    "        self.images = None\n",
    "        self.lables = None\n",
    "        self.num_examples = 0\n",
    "    def next_batch(self, batch_size=100):\n",
    "        images = self.images[self.batch_index : self.batch_index+batch_size]\n",
    "        labels = self.labels[self.batch_index : self.batch_index+batch_size]\n",
    "        self.batch_index = self.batch_index + batch_size\n",
    "        return images, labels\n",
    "    def reset_batch(self):\n",
    "        self.batch_index = 0"
   ]
  },
  {
   "cell_type": "code",
   "execution_count": 15,
   "metadata": {},
   "outputs": [],
   "source": [
    "class DataSet:\n",
    "    def __init__(self):\n",
    "        self.train = Data()\n",
    "        self.test = Data()"
   ]
  },
  {
   "cell_type": "code",
   "execution_count": 16,
   "metadata": {},
   "outputs": [],
   "source": [
    "def load_data(dir_path) :\n",
    "    data = DataSet()\n",
    "    \n",
    "    file_path = os.path.join(dir_path, \"train_images.csv\")\n",
    "    data.train.images = np.loadtxt(file_path, delimiter=',', dtype='float32')\n",
    "    data.train.num_examples = data.train.images.shape[0]\n",
    "    \n",
    "    file_path = os.path.join(dir_path, \"train_labels.csv\")\n",
    "    data.train.labels = np.loadtxt(file_path, delimiter=',', dtype='float32')\n",
    "    \n",
    "    file_path = os.path.join(dir_path, \"test_images.csv\")\n",
    "    data.test.images = np.loadtxt(file_path, delimiter=',', dtype='float32')\n",
    "    data.test.num_examples = data.test.images.shape[0]\n",
    "    \n",
    "    file_path = os.path.join(dir_path, \"test_labels.csv\")\n",
    "    data.test.labels = np.loadtxt(file_path, delimiter=',', dtype='float32')\n",
    "    \n",
    "    return data"
   ]
  },
  {
   "cell_type": "code",
   "execution_count": 17,
   "metadata": {},
   "outputs": [
    {
     "name": "stdout",
     "output_type": "stream",
     "text": [
      "[[1. 0. 0. ... 0. 0. 0.]\n",
      " [1. 0. 0. ... 0. 0. 0.]\n",
      " [1. 0. 0. ... 0. 0. 0.]\n",
      " ...\n",
      " [0. 1. 0. ... 0. 0. 0.]\n",
      " [0. 0. 1. ... 0. 0. 0.]\n",
      " [1. 0. 0. ... 0. 0. 0.]]\n"
     ]
    }
   ],
   "source": [
    "if __name__ == \"__main__\":\n",
    "    data = load_data('./FACE_IMG/')\n",
    "    batch_x, batch_y = data.train.next_batch(100)\n",
    "    print(batch_y)"
   ]
  },
  {
   "cell_type": "code",
   "execution_count": null,
   "metadata": {},
   "outputs": [],
   "source": []
  },
  {
   "cell_type": "code",
   "execution_count": null,
   "metadata": {},
   "outputs": [],
   "source": []
  },
  {
   "cell_type": "code",
   "execution_count": null,
   "metadata": {},
   "outputs": [],
   "source": []
  },
  {
   "cell_type": "code",
   "execution_count": null,
   "metadata": {},
   "outputs": [],
   "source": []
  }
 ],
 "metadata": {
  "kernelspec": {
   "display_name": "Python 3",
   "language": "python",
   "name": "python3"
  },
  "language_info": {
   "codemirror_mode": {
    "name": "ipython",
    "version": 3
   },
   "file_extension": ".py",
   "mimetype": "text/x-python",
   "name": "python",
   "nbconvert_exporter": "python",
   "pygments_lexer": "ipython3",
   "version": "3.7.0"
  }
 },
 "nbformat": 4,
 "nbformat_minor": 2
}
