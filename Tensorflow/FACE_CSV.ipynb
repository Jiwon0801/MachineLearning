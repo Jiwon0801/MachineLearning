{
 "cells": [
  {
   "cell_type": "code",
   "execution_count": 9,
   "metadata": {},
   "outputs": [
    {
     "name": "stdout",
     "output_type": "stream",
     "text": [
      "./FACE_IMG/00000\\00000.csv\n",
      "./FACE_IMG/00001\\00001.csv\n",
      "./FACE_IMG/00002\\00002.csv\n",
      "./FACE_IMG/00003\\00003.csv\n"
     ]
    }
   ],
   "source": [
    "import numpy as np\n",
    "import os\n",
    "from PIL import Image\n",
    "\n",
    "def img_to_arr(file_path):\n",
    "    im = Image.open(file_path)\n",
    "    arr = np.array(im).flatten()\n",
    "    return arr/255\n",
    "\n",
    "target_dir = './FACE_IMG/'\n",
    "list = os.listdir(target_dir)\n",
    "\n",
    "for dir in list:\n",
    "    work_dir = os.path.join(target_dir, dir)\n",
    "    arr_list = []\n",
    "    for file in os.listdir(work_dir):\n",
    "        file_path = os.path.join(work_dir, file)\n",
    "        _, ext = os.path.splitext(file_path)\n",
    "        if ext != '.jpg': continue\n",
    "        arr = img_to_arr(file_path)\n",
    "        arr_list.append(arr)\n",
    "        \n",
    "    dest = os.path.join(work_dir, dir+\".csv\")\n",
    "    np.savetxt(dest, arr_list, fmt='%.6f', delimiter=',')\n",
    "    print(dest)"
   ]
  },
  {
   "cell_type": "code",
   "execution_count": null,
   "metadata": {},
   "outputs": [],
   "source": []
  }
 ],
 "metadata": {
  "kernelspec": {
   "display_name": "Python 3",
   "language": "python",
   "name": "python3"
  },
  "language_info": {
   "codemirror_mode": {
    "name": "ipython",
    "version": 3
   },
   "file_extension": ".py",
   "mimetype": "text/x-python",
   "name": "python",
   "nbconvert_exporter": "python",
   "pygments_lexer": "ipython3",
   "version": "3.7.0"
  }
 },
 "nbformat": 4,
 "nbformat_minor": 2
}
