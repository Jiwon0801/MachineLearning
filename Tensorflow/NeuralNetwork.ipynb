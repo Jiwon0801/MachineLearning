{
 "cells": [
  {
   "cell_type": "code",
   "execution_count": 1,
   "metadata": {},
   "outputs": [],
   "source": [
    "### 단일 신경망\n",
    "\n",
    "import tensorflow as tf\n",
    "import numpy as np\n",
    "\n",
    "x_data = [[0,0],\n",
    "         [1,0],\n",
    "         [1,1],\n",
    "         [0,0],\n",
    "         [0,0],\n",
    "         [0,1]]\n",
    "\n",
    "y_data = [[1,0,0],\n",
    "         [0,1,0],\n",
    "         [0,0,1],\n",
    "         [1,0,0],\n",
    "         [1,0,0],\n",
    "         [0,0,1]]\n",
    "\n"
   ]
  },
  {
   "cell_type": "code",
   "execution_count": 2,
   "metadata": {},
   "outputs": [],
   "source": [
    "#입력층 만들기\n",
    "X = tf.placeholder(tf.float32)\n",
    "Y = tf.placeholder(tf.float32)"
   ]
  },
  {
   "cell_type": "code",
   "execution_count": 3,
   "metadata": {},
   "outputs": [
    {
     "name": "stdout",
     "output_type": "stream",
     "text": [
      "WARNING:tensorflow:From C:\\ProgramData\\Anaconda3\\lib\\site-packages\\tensorflow\\python\\framework\\op_def_library.py:263: colocate_with (from tensorflow.python.framework.ops) is deprecated and will be removed in a future version.\n",
      "Instructions for updating:\n",
      "Colocations handled automatically by placer.\n"
     ]
    }
   ],
   "source": [
    "#가중치와 편향 초기화\n",
    "W = tf.Variable(tf.random_uniform([2,3], -1,1))\n",
    "b = tf.Variable(tf.zeros([3]))"
   ]
  },
  {
   "cell_type": "code",
   "execution_count": 4,
   "metadata": {},
   "outputs": [],
   "source": [
    "#신경망 구성 ReLU\n",
    "L = tf.add(tf.matmul(X,W), b) # 입력 x에 W 적용시키기 xW+b\n",
    "L = tf.nn.relu(L)\n",
    "\n",
    "model = tf.nn.softmax(L)"
   ]
  },
  {
   "cell_type": "code",
   "execution_count": 5,
   "metadata": {},
   "outputs": [
    {
     "name": "stdout",
     "output_type": "stream",
     "text": [
      "WARNING:tensorflow:From C:\\ProgramData\\Anaconda3\\lib\\site-packages\\tensorflow\\python\\ops\\math_ops.py:3066: to_int32 (from tensorflow.python.ops.math_ops) is deprecated and will be removed in a future version.\n",
      "Instructions for updating:\n",
      "Use tf.cast instead.\n"
     ]
    }
   ],
   "source": [
    "#교차 에트로피\n",
    "cost = tf.reduce_mean(-tf.reduce_sum(Y*tf.log(model), axis=1))\n",
    "optimizer = tf.train.GradientDescentOptimizer(learning_rate=0.01)\n",
    "train_op = optimizer.minimize(cost)"
   ]
  },
  {
   "cell_type": "code",
   "execution_count": 8,
   "metadata": {},
   "outputs": [
    {
     "name": "stdout",
     "output_type": "stream",
     "text": [
      "10 1.0938872\n",
      "20 1.0924717\n",
      "30 1.091073\n",
      "40 1.0896907\n",
      "50 1.0887154\n",
      "60 1.0879718\n",
      "70 1.0872347\n",
      "80 1.086504\n",
      "90 1.0857793\n",
      "100 1.0850606\n",
      "예측값 :  [0 2 2 0 0 0]\n",
      "실제값 :  [0 1 2 0 0 2]\n",
      "정확도 : 66.67\n"
     ]
    }
   ],
   "source": [
    "with tf.Session() as sess:\n",
    "    # 학습을 위핚 변수 초기화\n",
    "    sess.run(tf.global_variables_initializer())\n",
    "    \n",
    "    # 학습\n",
    "    for step in range(100):\n",
    "        sess.run(train_op, feed_dict = {\n",
    "        X: x_data, # 훈련 이미지\n",
    "        Y: y_data # 훈련 이미지 정답 레이블\n",
    "    } )\n",
    "        # 중간 과정 cost 출력\n",
    "        if(step+1)%10 == 0:\n",
    "            print(step+1, sess.run(cost,\n",
    "            feed_dict = { X: x_data,Y: y_data}))\n",
    "            \n",
    "    # 학습 결과 확인\n",
    "    prediction = tf.argmax(model, axis=1)\n",
    "    target = tf.argmax(Y, axis=1)\n",
    "\n",
    "    print(\"예측값 : \", sess.run(prediction, feed_dict={X : x_data}))\n",
    "    print(\"실제값 : \", sess.run(target, feed_dict={Y : y_data}))\n",
    "\n",
    "    is_correct = tf.equal(prediction, target)\n",
    "    accuracy = tf.reduce_mean(tf.cast(is_correct, tf.float32))\n",
    "\n",
    "    print('정확도 : {:.2f}'.format(sess.run(accuracy* 100,feed_dict={ X: x_data,Y: y_data})) )"
   ]
  },
  {
   "cell_type": "code",
   "execution_count": null,
   "metadata": {},
   "outputs": [],
   "source": []
  },
  {
   "cell_type": "code",
   "execution_count": 18,
   "metadata": {},
   "outputs": [],
   "source": [
    "### 심층 신경망: 은닉 계층 존재\n",
    "\n",
    "import tensorflow as tf\n",
    "import numpy as np\n",
    "\n",
    "x_data = [[0,0],\n",
    "         [1,0],\n",
    "         [1,1],\n",
    "         [0,0],\n",
    "         [0,0],\n",
    "         [0,1]]\n",
    "\n",
    "y_data = [[1,0,0],\n",
    "         [0,1,0],\n",
    "         [0,0,1],\n",
    "         [1,0,0],\n",
    "         [1,0,0],\n",
    "         [0,0,1]]\n",
    "\n",
    "X = tf.placeholder(tf.float32) # 특징 X\n",
    "Y= tf.placeholder(tf.float32) # 정답 레이블\n",
    "\n",
    "\n",
    "# W1 = [2, 10] ->[특징수, 은닉 노드 수]\n",
    "W1 = tf.Variable(tf.random_uniform([2, 10], -1, 1))\n",
    "# W2 = [10, 3] ->[은닉 노드 수, 출력 노드 수]\n",
    "W2 = tf.Variable(tf.random_uniform([10, 3], -1, 1))\n",
    "          \n",
    "# b1 = [10] -> 은닉 노드 수\n",
    "b1 = tf.Variable(tf.zeros([10]))\n",
    "# b2 = [3] -> 출력 노드 수\n",
    "b2 = tf.Variable(tf.zeros([3]))         "
   ]
  },
  {
   "cell_type": "code",
   "execution_count": 19,
   "metadata": {},
   "outputs": [],
   "source": [
    "L1= tf.add(tf.matmul(X, W1), b1)\n",
    "L1 = tf.nn.relu(L1)\n",
    "model = tf.add(tf.matmul(L1, W2), b2)"
   ]
  },
  {
   "cell_type": "code",
   "execution_count": 20,
   "metadata": {},
   "outputs": [],
   "source": [
    "#손실 함수, 최적화 함수\n",
    "cost= tf.reduce_mean(tf.nn.softmax_cross_entropy_with_logits_v2(labels=Y, logits=model))\n",
    "optimizer = tf.train.AdamOptimizer(learning_rate=0.01)\n",
    "train_op = optimizer.minimize(cost)"
   ]
  },
  {
   "cell_type": "code",
   "execution_count": 21,
   "metadata": {},
   "outputs": [
    {
     "name": "stdout",
     "output_type": "stream",
     "text": [
      "10 1.0160587\n",
      "20 0.78920573\n",
      "30 0.6332832\n",
      "40 0.5242223\n",
      "50 0.44598866\n",
      "60 0.39045998\n",
      "70 0.3399326\n",
      "80 0.28842586\n",
      "90 0.23407857\n",
      "100 0.18380962\n",
      "예측값 :  [0 1 2 0 0 2]\n",
      "실제값 :  [0 1 2 0 0 2]\n",
      "정확도 : 100.00\n"
     ]
    }
   ],
   "source": [
    "with tf.Session() as sess:\n",
    "    # 학습을 위핚 변수 초기화\n",
    "    sess.run(tf.global_variables_initializer())\n",
    "    \n",
    "    # 학습\n",
    "    for step in range(100):\n",
    "        sess.run(train_op, feed_dict = {\n",
    "        X: x_data, # 훈련 이미지\n",
    "        Y: y_data # 훈련 이미지 정답 레이블\n",
    "    } )\n",
    "        # 중간 과정 cost 출력\n",
    "        if(step+1)%10 == 0:\n",
    "            print(step+1, sess.run(cost,\n",
    "            feed_dict = { X: x_data,Y: y_data}))\n",
    "            \n",
    "    # 학습 결과 확인\n",
    "    prediction = tf.argmax(model, axis=1)\n",
    "    target = tf.argmax(Y, axis=1)\n",
    "\n",
    "    print(\"예측값 : \", sess.run(prediction, feed_dict={X : x_data}))\n",
    "    print(\"실제값 : \", sess.run(target, feed_dict={Y : y_data}))\n",
    "\n",
    "    is_correct = tf.equal(prediction, target)\n",
    "    accuracy = tf.reduce_mean(tf.cast(is_correct, tf.float32))\n",
    "\n",
    "    print('정확도 : {:.2f}'.format(sess.run(accuracy* 100,feed_dict={ X: x_data,Y: y_data})) )"
   ]
  },
  {
   "cell_type": "code",
   "execution_count": null,
   "metadata": {},
   "outputs": [],
   "source": []
  },
  {
   "cell_type": "code",
   "execution_count": null,
   "metadata": {},
   "outputs": [],
   "source": []
  }
 ],
 "metadata": {
  "kernelspec": {
   "display_name": "Python 3",
   "language": "python",
   "name": "python3"
  },
  "language_info": {
   "codemirror_mode": {
    "name": "ipython",
    "version": 3
   },
   "file_extension": ".py",
   "mimetype": "text/x-python",
   "name": "python",
   "nbconvert_exporter": "python",
   "pygments_lexer": "ipython3",
   "version": "3.7.0"
  }
 },
 "nbformat": 4,
 "nbformat_minor": 2
}
