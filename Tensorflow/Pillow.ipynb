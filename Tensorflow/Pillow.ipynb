{
 "cells": [
  {
   "cell_type": "code",
   "execution_count": 2,
   "metadata": {},
   "outputs": [],
   "source": [
    "from PIL import Image"
   ]
  },
  {
   "cell_type": "code",
   "execution_count": 23,
   "metadata": {},
   "outputs": [
    {
     "name": "stdout",
     "output_type": "stream",
     "text": [
      "(1024, 768)\n"
     ]
    }
   ],
   "source": [
    "#파일 읽기 및 저장\n",
    "im = Image.open('C:/Users/Public/Pictures/Sample Pictures/Penguins.jpg')\n",
    "\n",
    "print(im.size)\n",
    "\n",
    "im.save('Penguins_test.jpg')\n",
    "\n",
    "im.show(0)"
   ]
  },
  {
   "cell_type": "code",
   "execution_count": 7,
   "metadata": {},
   "outputs": [
    {
     "name": "stdout",
     "output_type": "stream",
     "text": [
      "(325, 488)\n"
     ]
    }
   ],
   "source": [
    "from PIL import Image\n",
    "import urllib.request as request\n",
    "\n",
    "url = 'https://imgc.allpostersimages.com/img/print/posters/dlillc-baby-emperor-penguin_a-G-13448178-14258382.jpg'\n",
    "\n",
    "res = request.urlopen(url)\n",
    "im = Image.open(res)\n",
    "im.show()\n",
    "print(im.size)"
   ]
  },
  {
   "cell_type": "code",
   "execution_count": 11,
   "metadata": {},
   "outputs": [],
   "source": [
    "from PIL import Image\n",
    "\n",
    "#색상 변경\n",
    "im = Image.open('Penguins_test.jpg').convert(\"L\")\n",
    "\n",
    "im.show()"
   ]
  },
  {
   "cell_type": "code",
   "execution_count": 16,
   "metadata": {},
   "outputs": [],
   "source": [
    "#Thumbnail 이미지\n",
    "size = (64,64)\n",
    "im.thumbnail(size)\n",
    "\n",
    "im.save('Penguins-thumb.jpg')"
   ]
  },
  {
   "cell_type": "code",
   "execution_count": 15,
   "metadata": {},
   "outputs": [],
   "source": [
    "#이미지 부분 잘라내기\n",
    "im = Image.open('Penguins_test.jpg')\n",
    "cropImage = im.crop((100,100,150,150)) # 좌,상,우,하\n",
    "cropImage.save('Penguins_crop.jpg')"
   ]
  },
  {
   "cell_type": "code",
   "execution_count": null,
   "metadata": {},
   "outputs": [],
   "source": []
  },
  {
   "cell_type": "code",
   "execution_count": 19,
   "metadata": {},
   "outputs": [],
   "source": [
    "########## center crop\n",
    "from PIL import Image\n",
    "\n",
    "def center_crop(im):\n",
    "    crop_size = min(im.size)\n",
    "    \n",
    "    left = (im.size[0] - crop_size)//2\n",
    "    top = (im.size[1]-crop_size)//2\n",
    "    right = (im.size[0]+crop_size)//2\n",
    "    bottom = (im.size[1]+crop_size)//2\n",
    "    \n",
    "    return im.crop((left, top, right, bottom))\n",
    "\n",
    "\n",
    "im = Image.open('Penguins_test.jpg')\n",
    "cropImage = center_crop(im)\n",
    "cropImage.save('Penguins_center_crop.jpg')"
   ]
  },
  {
   "cell_type": "code",
   "execution_count": null,
   "metadata": {},
   "outputs": [],
   "source": []
  },
  {
   "cell_type": "code",
   "execution_count": 20,
   "metadata": {},
   "outputs": [],
   "source": [
    "#이미지 회전 및 Resize\n",
    "from PIL import Image\n",
    "\n",
    "im = Image.open('Penguins_test.jpg')\n",
    "\n",
    "img2 = im.resize((600,600))\n",
    "img2.save('Penguins_600.jpg')\n",
    "\n",
    "img3 = im.rotate(90)\n",
    "img3.save ('Penguins_rotate.jpg')"
   ]
  },
  {
   "cell_type": "code",
   "execution_count": null,
   "metadata": {},
   "outputs": [],
   "source": []
  },
  {
   "cell_type": "code",
   "execution_count": 21,
   "metadata": {},
   "outputs": [],
   "source": [
    "#이미지 필터링\n",
    "from PIL import Image, ImageFilter\n",
    "\n",
    "im = Image.open('Penguins_test.jpg')\n",
    "blurImage = im.filter(ImageFilter.BLUR)\n",
    "\n",
    "blurImage.save('Penguins_blur.jpg')"
   ]
  },
  {
   "cell_type": "code",
   "execution_count": null,
   "metadata": {},
   "outputs": [],
   "source": []
  },
  {
   "cell_type": "code",
   "execution_count": 29,
   "metadata": {},
   "outputs": [
    {
     "name": "stdout",
     "output_type": "stream",
     "text": [
      "[[[120 175 216]\n",
      "  [117 172 213]\n",
      "  [118 173 214]\n",
      "  ...\n",
      "  [ 86 161 201]\n",
      "  [ 86 161 201]\n",
      "  [ 85 160 200]]\n",
      "\n",
      " [[120 175 216]\n",
      "  [117 172 213]\n",
      "  [118 173 214]\n",
      "  ...\n",
      "  [ 87 162 202]\n",
      "  [ 86 161 201]\n",
      "  [ 86 161 201]]\n",
      "\n",
      " [[121 176 217]\n",
      "  [118 173 214]\n",
      "  [118 173 214]\n",
      "  ...\n",
      "  [ 87 162 202]\n",
      "  [ 88 163 203]\n",
      "  [ 88 163 203]]\n",
      "\n",
      " ...\n",
      "\n",
      " [[110 116 114]\n",
      "  [112 118 116]\n",
      "  [195 204 201]\n",
      "  ...\n",
      "  [117 137 138]\n",
      "  [101 122 125]\n",
      "  [ 88 112 114]]\n",
      "\n",
      " [[118 124 122]\n",
      "  [ 97 103 101]\n",
      "  [ 84  93  90]\n",
      "  ...\n",
      "  [112 133 136]\n",
      "  [111 135 137]\n",
      "  [ 94 118 120]]\n",
      "\n",
      " [[ 83  87  86]\n",
      "  [112 118 116]\n",
      "  [ 83  92  89]\n",
      "  ...\n",
      "  [109 130 133]\n",
      "  [108 132 134]\n",
      "  [ 73  99 100]]]\n",
      "\n",
      "<PIL.Image.Image image mode=RGB size=1024x768 at 0x5CD4320>\n"
     ]
    }
   ],
   "source": [
    "#이미지 <-> numpy베열\n",
    "import numpy as np\n",
    "from PIL import Image\n",
    "\n",
    "im = Image.open('Penguins_test.jpg')\n",
    "\n",
    "# image -> numpy array\n",
    "im2arr = np.array(im)\n",
    "print(im2arr)\n",
    "\n",
    "print()\n",
    "\n",
    "#numpy array -> image\n",
    "arr2im = Image.fromarray(im2arr)\n",
    "print(arr2im)"
   ]
  },
  {
   "cell_type": "code",
   "execution_count": 31,
   "metadata": {},
   "outputs": [],
   "source": [
    "# numpy to csv\n",
    "\n",
    "a = np.asarray([[1,2,3], [4,5,6], [7,8,9]])\n",
    "\n",
    "a.tofile('foo.csv', sep=',', format = '%10.5f')\n",
    "np.savetxt('bar.csv', a, fmt = '%10.5f', delimiter=',')"
   ]
  },
  {
   "cell_type": "code",
   "execution_count": null,
   "metadata": {},
   "outputs": [],
   "source": []
  }
 ],
 "metadata": {
  "kernelspec": {
   "display_name": "Python 3",
   "language": "python",
   "name": "python3"
  },
  "language_info": {
   "codemirror_mode": {
    "name": "ipython",
    "version": 3
   },
   "file_extension": ".py",
   "mimetype": "text/x-python",
   "name": "python",
   "nbconvert_exporter": "python",
   "pygments_lexer": "ipython3",
   "version": "3.7.0"
  }
 },
 "nbformat": 4,
 "nbformat_minor": 2
}
