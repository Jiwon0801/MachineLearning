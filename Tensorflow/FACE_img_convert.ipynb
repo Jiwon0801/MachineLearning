{
 "cells": [
  {
   "cell_type": "code",
   "execution_count": 2,
   "metadata": {},
   "outputs": [
    {
     "name": "stdout",
     "output_type": "stream",
     "text": [
      "./FACE_IMG_TRAINING/00000 완료\n",
      "./FACE_IMG_TRAINING/00001 완료\n",
      "./FACE_IMG_TRAINING/00002 완료\n",
      "./FACE_IMG_TRAINING/00003 완료\n"
     ]
    }
   ],
   "source": [
    "import os\n",
    "import numpy as np\n",
    "from PIL import Image\n",
    "\n",
    "def center_crop(im):\n",
    "    crop_size = min(im.size)\n",
    "    \n",
    "    left = (im.size[0] - crop_size)//2\n",
    "    top = (im.size[1]-crop_size)//2\n",
    "    right = (im.size[0]+crop_size)//2\n",
    "    bottom = (im.size[1]+crop_size)//2\n",
    "    \n",
    "    return im.crop((left, top, right, bottom))\n",
    "\n",
    "\n",
    "def convert_image(src_file, dest_file):\n",
    "    _, ext = os.path.splitext(src_file)\n",
    "    if ext != '.jpg':\n",
    "        return\n",
    "    \n",
    "    src_image = Image.open(src_file)\n",
    "    dest_image = src_image.convert(\"L\")\n",
    "    dest_image = center_crop(dest_image).resize((32,32))\n",
    "    dest_image.save(dest_file)\n",
    "    \n",
    "base_dir = './FACE_IMG_TRAINING/'\n",
    "target_dir = './FACE_IMG/'\n",
    "\n",
    "list = os.listdir(base_dir)\n",
    "for dir in list:\n",
    "    dest = target_dir + dir\n",
    "    \n",
    "    if not os.path.exists(dest):\n",
    "        os.makedirs(dest)\n",
    "        \n",
    "    src_dir = base_dir + dir\n",
    "    file_list = os.listdir(src_dir)\n",
    "        \n",
    "    for file in file_list:\n",
    "        src_file = src_dir + \"/\" + file\n",
    "        dest_file = dest+ \"/\" + file\n",
    "        convert_image(src_file, dest_file)\n",
    "        \n",
    "        \n",
    "    print(src_dir, \"완료\")\n"
   ]
  },
  {
   "cell_type": "code",
   "execution_count": null,
   "metadata": {},
   "outputs": [],
   "source": []
  }
 ],
 "metadata": {
  "kernelspec": {
   "display_name": "Python 3",
   "language": "python",
   "name": "python3"
  },
  "language_info": {
   "codemirror_mode": {
    "name": "ipython",
    "version": 3
   },
   "file_extension": ".py",
   "mimetype": "text/x-python",
   "name": "python",
   "nbconvert_exporter": "python",
   "pygments_lexer": "ipython3",
   "version": "3.7.0"
  }
 },
 "nbformat": 4,
 "nbformat_minor": 2
}
