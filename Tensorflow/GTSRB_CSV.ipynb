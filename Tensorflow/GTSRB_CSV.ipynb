{
 "cells": [
  {
   "cell_type": "code",
   "execution_count": 8,
   "metadata": {},
   "outputs": [
    {
     "name": "stdout",
     "output_type": "stream",
     "text": [
      "./GTSRB_TEST/00000\\00000.csv\n",
      "./GTSRB_TEST/00001\\00001.csv\n",
      "./GTSRB_TEST/00002\\00002.csv\n",
      "./GTSRB_TEST/00003\\00003.csv\n",
      "./GTSRB_TEST/00004\\00004.csv\n",
      "./GTSRB_TEST/00005\\00005.csv\n",
      "./GTSRB_TEST/00006\\00006.csv\n",
      "./GTSRB_TEST/00007\\00007.csv\n",
      "./GTSRB_TEST/00008\\00008.csv\n",
      "./GTSRB_TEST/00009\\00009.csv\n",
      "./GTSRB_TEST/00010\\00010.csv\n",
      "./GTSRB_TEST/00011\\00011.csv\n",
      "./GTSRB_TEST/00012\\00012.csv\n",
      "./GTSRB_TEST/00013\\00013.csv\n",
      "./GTSRB_TEST/00014\\00014.csv\n",
      "./GTSRB_TEST/00015\\00015.csv\n",
      "./GTSRB_TEST/00016\\00016.csv\n",
      "./GTSRB_TEST/00017\\00017.csv\n",
      "./GTSRB_TEST/00018\\00018.csv\n",
      "./GTSRB_TEST/00019\\00019.csv\n",
      "./GTSRB_TEST/00020\\00020.csv\n",
      "./GTSRB_TEST/00021\\00021.csv\n",
      "./GTSRB_TEST/00022\\00022.csv\n",
      "./GTSRB_TEST/00023\\00023.csv\n",
      "./GTSRB_TEST/00024\\00024.csv\n",
      "./GTSRB_TEST/00025\\00025.csv\n",
      "./GTSRB_TEST/00026\\00026.csv\n",
      "./GTSRB_TEST/00027\\00027.csv\n",
      "./GTSRB_TEST/00028\\00028.csv\n",
      "./GTSRB_TEST/00029\\00029.csv\n",
      "./GTSRB_TEST/00030\\00030.csv\n",
      "./GTSRB_TEST/00031\\00031.csv\n",
      "./GTSRB_TEST/00032\\00032.csv\n",
      "./GTSRB_TEST/00033\\00033.csv\n",
      "./GTSRB_TEST/00034\\00034.csv\n",
      "./GTSRB_TEST/00035\\00035.csv\n",
      "./GTSRB_TEST/00036\\00036.csv\n",
      "./GTSRB_TEST/00037\\00037.csv\n",
      "./GTSRB_TEST/00038\\00038.csv\n",
      "./GTSRB_TEST/00039\\00039.csv\n",
      "./GTSRB_TEST/00040\\00040.csv\n",
      "./GTSRB_TEST/00041\\00041.csv\n",
      "./GTSRB_TEST/00042\\00042.csv\n"
     ]
    }
   ],
   "source": [
    "import numpy as np\n",
    "\n",
    "def img_to_arr(file_path):\n",
    "    im = Image.open(file_path)\n",
    "    arr = np.array(im).flatten()\n",
    "    return arr/255\n",
    "\n",
    "target_dir = './GTSRB_IMG/'\n",
    "list = os.listdir(target_dir)\n",
    "\n",
    "for dir in list:\n",
    "    work_dir = os.path.join(target_dir, dir)\n",
    "    arr_list = []\n",
    "    for file in os.listdir(work_dir):\n",
    "        file_path = os.path.join(work_dir, file)\n",
    "        _, ext = os.path.splitext(file_path)\n",
    "        if ext != '.ppm': continue\n",
    "        arr = img_to_arr(file_path)\n",
    "        arr_list.append(arr)\n",
    "        \n",
    "    dest = os.path.join(work_dir, dir+\".csv\")\n",
    "    np.savetxt(dest, arr_list, fmt='%.6f', delimiter=',')\n",
    "    print(dest)"
   ]
  },
  {
   "cell_type": "code",
   "execution_count": null,
   "metadata": {},
   "outputs": [],
   "source": []
  },
  {
   "cell_type": "code",
   "execution_count": null,
   "metadata": {},
   "outputs": [],
   "source": []
  },
  {
   "cell_type": "code",
   "execution_count": null,
   "metadata": {},
   "outputs": [],
   "source": []
  },
  {
   "cell_type": "code",
   "execution_count": null,
   "metadata": {},
   "outputs": [],
   "source": []
  }
 ],
 "metadata": {
  "kernelspec": {
   "display_name": "Python 3",
   "language": "python",
   "name": "python3"
  },
  "language_info": {
   "codemirror_mode": {
    "name": "ipython",
    "version": 3
   },
   "file_extension": ".py",
   "mimetype": "text/x-python",
   "name": "python",
   "nbconvert_exporter": "python",
   "pygments_lexer": "ipython3",
   "version": "3.7.0"
  }
 },
 "nbformat": 4,
 "nbformat_minor": 2
}
